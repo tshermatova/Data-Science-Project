{
 "cells": [
  {
   "cell_type": "markdown",
   "id": "b61111ed",
   "metadata": {},
   "source": [
    "### Получаем новости для учета новостного шума. **В лишний раз не заупскать ячейку!**\n",
    "### Получаем описание статьи + дату и время публикации. Дату и время публикации переводим в дату, чтобы можно было объединить с датафреймом, где содержится информация по акциям.\n",
    "### Сервис имеет ограничения, поэтому берем всего n последних дней\n",
    "### Новости собираем по каждой отдельной акции по ключевому слову"
   ]
  },
  {
   "cell_type": "code",
   "execution_count": null,
   "id": "5bab294f",
   "metadata": {},
   "outputs": [],
   "source": [
    "from datetime import datetime, timedelta\n",
    "import requests\n",
    "import pandas as pd\n",
    "import time\n",
    "\n",
    "API_KEY = 'PRIVATE_API_TOKEN'\n",
    "STOCKS = [\"goog\"]\n",
    "n_days = 2000\n",
    "dt = datetime.strptime('2025-10-15', '%Y-%m-%d')\n",
    "\n",
    "def generate_dates(n, dt):\n",
    "    today = dt\n",
    "    return [(today - timedelta(days=i)).strftime('%Y-%m-%d') for i in range(n)]\n",
    "\n",
    "dates_list = generate_dates(n_days, dt)\n",
    "lst_data_news_stock = []\n",
    "dct = {}\n",
    "for stock in STOCKS:\n",
    "    lst_news_date = []\n",
    "    for date in dates_list:\n",
    "        url = f'https://gnews.io/api/v4/search?q=Google&lang=en&expand=content&from={date}T00:00:00.000Z&to={date}T23:59:59.999Z&max=5&apikey={API_KEY}'\n",
    "\n",
    "        response = requests.get(url)\n",
    "        data_news = response.json()\n",
    "        articles = data_news.get(\"articles\", [])\n",
    "        if len(articles):\n",
    "            for article in articles:\n",
    "                data_news = pd.DataFrame([{'content': article['content'], 'publishedAt': article['publishedAt'], 'title': article['title'], 'description': article['description']}])\n",
    "                data_news['publishedAt'] = pd.to_datetime(data_news['publishedAt']).dt.date\n",
    "                data_news.columns = [f\"{stock}_{col}\".lower() for col in data_news.columns]\n",
    "                data_news.to_csv('./csv/my_csv_2.csv', mode='a', header=True)\n",
    "        print(f\"{date} | {response}\")\n",
    "        time.sleep(2)"
   ]
  },
  {
   "cell_type": "markdown",
   "id": "b7b87b18",
   "metadata": {},
   "source": [
    "### Предобрабатываем dataframe с новостями"
   ]
  },
  {
   "cell_type": "code",
   "execution_count": null,
   "id": "75cbb1fa",
   "metadata": {},
   "outputs": [],
   "source": [
    "import pandas as pd\n",
    "\n",
    "df = pd.read_csv('./csv/my_csv_2.csv')\n",
    "df = df[df['goog_publishedat'] != 'goog_publishedat'].drop_duplicates()\n",
    "df[['goog_publishedat', 'goog_description']].to_csv('./csv/news_google_description.csv', mode='w', header=True)"
   ]
  }
 ],
 "metadata": {
  "kernelspec": {
   "display_name": "Python 3",
   "language": "python",
   "name": "python3"
  },
  "language_info": {
   "codemirror_mode": {
    "name": "ipython",
    "version": 3
   },
   "file_extension": ".py",
   "mimetype": "text/x-python",
   "name": "python",
   "nbconvert_exporter": "python",
   "pygments_lexer": "ipython3",
   "version": "3.10.4"
  }
 },
 "nbformat": 4,
 "nbformat_minor": 5
}
